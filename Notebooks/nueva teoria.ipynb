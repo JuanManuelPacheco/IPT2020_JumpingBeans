{
 "cells": [
  {
   "cell_type": "code",
   "execution_count": 33,
   "metadata": {},
   "outputs": [],
   "source": [
    "import numpy as np\n",
    "import matplotlib.pyplot as plt\n",
    "#from matplotlib import transforms\n",
    "from matplotlib.transforms import Affine2D\n",
    "from random import gauss\n",
    "import pandas as pd"
   ]
  },
  {
   "cell_type": "code",
   "execution_count": 510,
   "metadata": {},
   "outputs": [
    {
     "name": "stdout",
     "output_type": "stream",
     "text": [
      "[0, 0.046986920196059906, 0.09540425120102813, 0.1264759725202651, 0.15129564469165935, 0.1725820749104113, 0.1915170307259926, 0.20874140350160234, 0.22464900180845837, 0.23950234756940214, 0.2534868339164239, 0.2667391524442759, 0.2793635193156197, 0.2914415488603617, 0.3030385732540407, 0.31420785693162195, 0.3249935042970561, 0.33543252423251774, 0.34555633229723426, 0.35539186719512106, 0.36496243607548506, 0.37428836506612184, 0.3833875072320282, 0.39227564438708973, 0.400966808672519, 0.40947354265537406, 0.4178071117303539, 0.4259776790985396, 0.43399445107961504, 0.44186579868282894, 0.4495993600121471, 0.4572021270740659, 0.46468051979695496, 0.4720404494918695, 0.4792873735393039, 0.48642634274052443]\n"
     ]
    }
   ],
   "source": [
    "#Parametros\n",
    "me = 0.59/1000. # masa en kilogramos de la esfera\n",
    "r = (0.25/100) #radio de la esfera en metros\n",
    "#r = (0.35/100)\n",
    "\n",
    "#largo cilíndrico de la esfera\n",
    "h = (0.87/100) - 2*r \n",
    "#h = (2.04/100) - 2*r\n",
    "#h = (2.19/100) - 2*r\n",
    "#h = (2.33/100) - 2*r\n",
    "#h = (3.12/100) - 2*r\n",
    "#h = (3.58/100) - 2*r\n",
    "\n",
    "#masa en kilogramos de la pildora\n",
    "mp = 0.062/1000.  \n",
    "#mp = 0.104/1000.\n",
    "#mp = 0.105/1000.\n",
    "#mp = 0.132/1000.\n",
    "#mp = 0.149/1000.\n",
    "#mp = 0.200/1000.\n",
    "\n",
    "alpha = (np.pi*(20))/180.\n",
    "g = 9.8\n",
    "\n",
    "#Valores iniciales\n",
    "xi = [0]\n",
    "vi = [0]\n",
    "xf = [h]\n",
    "ti = [0]\n",
    "wlista = []\n",
    "\n",
    "#Funciones\n",
    "def t(xf,xi,vi):\n",
    "    return ((-vi+np.sqrt((vi**2)-2*(g*np.sin(alpha))*(xi-xf)))/(g*np.sin(alpha)))\n",
    "\n",
    "def V(vi,t):\n",
    "    return g*t*np.sin(alpha) + vi\n",
    "\n",
    "def wo(vf):\n",
    "    return (84*me*r*(h + 4*r)*vf)/(20*(h**3)*mp + 120*(h**2)*mp*r + 84*h*me*(r**2) + 45*h*mp*(r**2) + 336*me*(r**3) + 140*mp*(r**3))\n",
    "\n",
    "for i in range(0,35):\n",
    "#for i in range(0,16):\n",
    "#for i in range(0,15):\n",
    "#for i in range(0,14):\n",
    "#for i in range(0,11):\n",
    "#for i in range(0,9):\n",
    "    t1 = t(xf[i],xi[i],vi[i])\n",
    "    v = V(vi[i],t1)\n",
    "    w1 = wo(v)\n",
    "    wlista.append(w1)\n",
    "    #t2 = np.pi/wo\n",
    "    T = t1 \n",
    "    ti.append(ti[i]+T)\n",
    "    vi.append(v)\n",
    "    xi.append(xf[i])\n",
    "    xf.append(xf[i]+h+np.pi*r)\n",
    "\n",
    "print ti"
   ]
  },
  {
   "cell_type": "code",
   "execution_count": 473,
   "metadata": {},
   "outputs": [],
   "source": [
    "title = 'pildora6_20.txt'\n",
    "archivo = open(title,'w')\n",
    "for i in wlista:\n",
    "    archivo.write('{}\\n'.format(i))\n",
    "archivo.close()"
   ]
  },
  {
   "cell_type": "code",
   "execution_count": 471,
   "metadata": {},
   "outputs": [
    {
     "name": "stdout",
     "output_type": "stream",
     "text": [
      "1.6688878580916304 1.1776622773294245 0.9634422236661286 0.8375933427405244\n",
      "1.2475743163329203 1.0057098869591425 0.8690981202684459\n",
      "1.2853507578452912 1.03087889870763 0.8893463327178328\n",
      "1.1519586543951958 0.9839536486420428\n",
      "1.2630995407908305\n"
     ]
    }
   ],
   "source": [
    "Tw1_5 = np.loadtxt('t1_5.txt')\n",
    "Tw1_10 = np.loadtxt('t1_10.txt')\n",
    "Tw1_15 = np.loadtxt('t1_15.txt')\n",
    "Tw1_20 = np.loadtxt('t1_20.txt')\n",
    "\n",
    "Tw2_10 = np.loadtxt('t2_10.txt')\n",
    "Tw2_15 = np.loadtxt('t2_15.txt')\n",
    "Tw2_20 = np.loadtxt('t2_20.txt')\n",
    "\n",
    "Tw3_10 = np.loadtxt('t3_10.txt')\n",
    "Tw3_15 = np.loadtxt('t3_15.txt')\n",
    "Tw3_20 = np.loadtxt('t3_20.txt')\n",
    "\n",
    "Tw4_15 = np.loadtxt('t4_15.txt')\n",
    "Tw4_20 = np.loadtxt('t4_20.txt')\n",
    "\n",
    "Tw5_20 = np.loadtxt('t5_20.txt')\n",
    "\n",
    "tf1_5 = Tw1_5.sum() + 0.9635958580916306\n",
    "tf1_10 = Tw1_10.sum() + 0.6826652773294245\n",
    "tf1_15 = Tw1_15.sum() + 0.5591712236661286\n",
    "tf1_20 = Tw1_20.sum() + 0.48642634274052443\n",
    "\n",
    "tf2_10 = Tw2_10.sum() + 0.6542483163329202\n",
    "tf2_15 = Tw2_15.sum() + 0.5358948869591426\n",
    "tf2_20 = Tw2_20.sum() + 0.46617812026844585\n",
    "\n",
    "tf3_10 = Tw3_10.sum() + 0.653570757845291\n",
    "tf3_15 = Tw3_15.sum() + 0.5353398987076301\n",
    "tf3_20 = Tw3_20.sum() + 0.4656953327178328\n",
    "\n",
    "tf4_15 = Tw4_15.sum() + 0.5315306543951959\n",
    "tf4_20 = Tw4_20.sum() + 0.46238164864204273\n",
    "\n",
    "tf5_20 = Tw5_20.sum() + 0.4677945407908305\n",
    "\n",
    "print tf1_5, tf1_10, tf1_15, tf1_20\n",
    "print tf2_10, tf2_15, tf2_20\n",
    "print tf3_10, tf3_15, tf3_20\n",
    "print tf4_15, tf4_20\n",
    "print tf5_20"
   ]
  },
  {
   "cell_type": "code",
   "execution_count": 282,
   "metadata": {},
   "outputs": [],
   "source": [
    "Tfinal_angulos = [1.6108028580916305,1.1400052773294245,0.9334592236661285,0.8118813427405245]\n",
    "Tfinal2_angulos = [1.5514487424026913,1.0781223163329203, ]"
   ]
  },
  {
   "cell_type": "code",
   "execution_count": 474,
   "metadata": {},
   "outputs": [
    {
     "name": "stdout",
     "output_type": "stream",
     "text": [
      "-3.471714684854147e-05\n"
     ]
    }
   ],
   "source": [
    "k = 30*g*(me + mp)*(h+4*r)*(r - ((me*r + mp*((h/2) + r))/(me + mp)))*np.cos(alpha) \n",
    "print k"
   ]
  },
  {
   "cell_type": "code",
   "execution_count": 475,
   "metadata": {},
   "outputs": [
    {
     "name": "stdout",
     "output_type": "stream",
     "text": [
      "8.102635045859619e-06\n"
     ]
    }
   ],
   "source": [
    "k1 = 30*g*(me + mp)*(h + 4*r)*np.sin(alpha)*r\n",
    "print k1"
   ]
  },
  {
   "cell_type": "code",
   "execution_count": 476,
   "metadata": {},
   "outputs": [
    {
     "name": "stdout",
     "output_type": "stream",
     "text": [
      "2.0738643117377407e-05\n"
     ]
    }
   ],
   "source": [
    "k2 = 30*g*(me + mp)*(h + 4*r)*np.sin(alpha)*(((me*r + mp*( (h/2) + r)))/(me + mp))\n",
    "print k2"
   ]
  },
  {
   "cell_type": "code",
   "execution_count": 477,
   "metadata": {},
   "outputs": [
    {
     "name": "stdout",
     "output_type": "stream",
     "text": [
      "1.14296424e-07\n"
     ]
    }
   ],
   "source": [
    "k3 = 10*(h**3)*mp + 90*(h**2)*mp*r + 3*h*(14*me + 55*mp)*(r**2) + 8*(21*me + 20*mp)*(r**3)\n",
    "print k3"
   ]
  },
  {
   "cell_type": "code",
   "execution_count": 478,
   "metadata": {},
   "outputs": [
    {
     "name": "stdout",
     "output_type": "stream",
     "text": [
      "1.88496e-08\n"
     ]
    }
   ],
   "source": [
    "k4 = 30*h*mp*r*(h + 4*r)\n",
    "print k4"
   ]
  },
  {
   "cell_type": "code",
   "execution_count": 96,
   "metadata": {},
   "outputs": [
    {
     "name": "stdout",
     "output_type": "stream",
     "text": [
      "0.06458643468090325 3.07700621890889\n"
     ]
    }
   ],
   "source": [
    "betamin = np.arctan((r)/(h+np.pi*r))\n",
    "betamax = np.pi - betamin\n",
    "print betamin, betamax"
   ]
  },
  {
   "cell_type": "code",
   "execution_count": 220,
   "metadata": {},
   "outputs": [
    {
     "name": "stdout",
     "output_type": "stream",
     "text": [
      "27589629.9134 5.137342897354624e-06 5.137342897354623e-06\n"
     ]
    }
   ],
   "source": [
    "k3 = 10/(5*(h**2)*mp + 20*h*mp*r + 28*me*(r**2) + 30*mp*(r**2))\n",
    "\n",
    "k4 = (h*mp + 2*me*r + 2*mp*r)*np.cos(alpha)\n",
    "\n",
    "k5 = (h*mp + 2*me*r + 2*mp*r)*np.sin(alpha)\n",
    "\n",
    "print k3, k4, k5"
   ]
  },
  {
   "cell_type": "code",
   "execution_count": 215,
   "metadata": {},
   "outputs": [
    {
     "name": "stdout",
     "output_type": "stream",
     "text": [
      "188.35850869486114\n"
     ]
    }
   ],
   "source": [
    "k6 = (10*(h*mp + 2*me*r + 2*mp*r)*np.cos(alpha)/(\n",
    "5*(h**2)*mp + 20*h*mp*r + 28*me*(r**2) + 30*mp*(r**2)))\n",
    "\n",
    "print k6"
   ]
  },
  {
   "cell_type": "code",
   "execution_count": 525,
   "metadata": {},
   "outputs": [
    {
     "data": {
      "image/png": "[encoded data removed]",
      "text/plain": [
       "<Figure size 720x432 with 1 Axes>"
      ]
     },
     "metadata": {
      "needs_background": "light"
     },
     "output_type": "display_data"
    }
   ],
   "source": [
    "y1 = []\n",
    "#y2 = []\n",
    "#y3 = []\n",
    "y4 = []\n",
    "y5 = []\n",
    "\n",
    "t1 = []\n",
    "#t2 = []\n",
    "#t3 = []\n",
    "t4 = []\n",
    "t5 = []\n",
    "\n",
    "tinit1 = 0\n",
    "tinit2 = 0\n",
    "tinit3 = 0\n",
    "tinit4 = 0\n",
    "tinit5 = 0\n",
    "\n",
    "for i in range(len(xf)-1):\n",
    "    yn = -xf[i]\n",
    "    y1.append(yn)\n",
    "    tinit1 += Tw1_20[i]\n",
    "    tn = ti[i] + tinit1\n",
    "    t1.append(tn)\n",
    "\n",
    "fig=plt.figure(figsize=(10,6))\n",
    "#plt.title('Parabolas for different drop heights ', fontsize = 22)\n",
    "plt.xlabel('Time [s]', linespacing=1, fontsize = 18)\n",
    "plt.ylabel('x-Distance [m]', linespacing=1, fontsize = 18)\n",
    "\n",
    "plt.plot(t1, y1, linestyle='--',color='red', linewidth=2, label = 'L = 0.87 [cm], $m_p$ = 0.062 [gr]')\n",
    "plt.plot(t2, y2, linestyle='--',color='blue', linewidth=2, label = 'L = 2.04 [cm], $m_p$ = 0.104 [gr]')\n",
    "plt.plot(t3, y3, linestyle='--',color='green', linewidth=2, label = 'L = 2.19 [cm], $m_p$ = 0.105 [gr]')\n",
    "\n",
    "plt.xticks(size = 'xx-large')\n",
    "plt.yticks(size = 'xx-large')\n",
    "#plt.legend(loc='upper left', fontsize = 14, shadow=True)\n",
    "plt.grid(True)\n",
    "plt.axis([0, 0.85, 0.01, -0.35])\n",
    "plt.gca().invert_yaxis()\n",
    "plt.legend(fontsize = 16)\n",
    "# Mostramos en pantalla\n",
    "plt.show()"
   ]
  },
  {
   "cell_type": "code",
   "execution_count": null,
   "metadata": {},
   "outputs": [],
   "source": []
  },
  {
   "cell_type": "code",
   "execution_count": 533,
   "metadata": {},
   "outputs": [
    {
     "data": {
      "text/plain": [
       "[-0.0169,\n",
       " -0.04165398163397448,\n",
       " -0.06640796326794896,\n",
       " -0.09116194490192343,\n",
       " -0.11591592653589791,\n",
       " -0.1406699081698724,\n",
       " -0.1654238898038469,\n",
       " -0.1901778714378214,\n",
       " -0.21493185307179588,\n",
       " -0.23968583470577037,\n",
       " -0.26443981633974484,\n",
       " -0.2891937979737193,\n",
       " -0.31394777960769377,\n",
       " -0.33870176124166823,\n",
       " -0.3634557428756427]"
      ]
     },
     "execution_count": 533,
     "metadata": {},
     "output_type": "execute_result"
    }
   ],
   "source": [
    "y3"
   ]
  },
  {
   "cell_type": "code",
   "execution_count": null,
   "metadata": {},
   "outputs": [],
   "source": []
  }
 ],
 "metadata": {
  "kernelspec": {
   "display_name": "Python 2",
   "language": "python",
   "name": "python2"
  },
  "language_info": {
   "codemirror_mode": {
    "name": "ipython",
    "version": 2
   },
   "file_extension": ".py",
   "mimetype": "text/x-python",
   "name": "python",
   "nbconvert_exporter": "python",
   "pygments_lexer": "ipython2",
   "version": "2.7.16"
  }
 },
 "nbformat": 4,
 "nbformat_minor": 2
}
